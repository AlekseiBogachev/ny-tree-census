{
 "cells": [
  {
   "cell_type": "markdown",
   "metadata": {},
   "source": [
    "# Исследовательский анализ датасета [2015 Street Tree Census - Tree Data](https://data.cityofnewyork.us/Environment/2015-Street-Tree-Census-Tree-Data/uvpi-gqnh/about_data)"
   ]
  },
  {
   "cell_type": "markdown",
   "metadata": {},
   "source": [
    "## Краткое описание\n",
    "\n",
    "Датасет содержит информацию о деревьях, растущих на улицах Нью-Йорка, собранную\n",
    "в рамках проекта **2015 Street Tree Census** волонтёрами и сотрудниками\n",
    "**NYC Parks & Recreation** и партнёрских организация.\n",
    "\n",
    "Собранные данные включают в себ информацию о видах деревьев, диаметре и оценку\n",
    "здоровья. Доступны сопроводительные данные, показывающие статус сбора и\n",
    "публикации данных по всему городу.\n",
    "\n",
    "[Подробнее о датасете можно узнать на его сайте.](https://data.cityofnewyork.us/Environment/2015-Street-Tree-Census-Tree-Data/uvpi-gqnh/about_data)\n",
    "\n",
    "Данный отчёт содержит исследовательский анализ данных, в том числе следующие\n",
    "пункты:\n",
    "- **превью данных** - таблица с небольшой выборкой из датасета,\n",
    "- **оценка количества пропусков в столбцах** с помощью библиотеки\n",
    "  [`missingno`](https://github.com/ResidentMario/missingno),\n",
    "- **диаграммы попарного распределения признаков**,\n",
    "- **матрицу попарной корреляции между вещественными признаками**,\n",
    "- **карту расположения деревьев** из датасета."
   ]
  },
  {
   "cell_type": "markdown",
   "metadata": {},
   "source": [
    "## Описание данных\n",
    "\n",
    "В следующей таблице приведено переведённое описание данных.\n",
    "Подробную информацию можно получить на\n",
    "[сайте датасета](https://data.cityofnewyork.us/Environment/2015-Street-Tree-Census-Tree-Data/uvpi-gqnh/about_data).\n",
    "\n",
    "| № | Название столбца | Описание | Тип данных |\n",
    "|---|---|---|---|\n",
    "| 1 | tree_id | Уникальный идентификатор каждого дерева. | Число |\n",
    "| 2 | block_id | Идентификатор, связывающий каждое дерево с блоком в таблице блоков/шейп-файле, в который оно отображается. (\"Identifier linking each tree to the block in the blockface table/shapefile that it is mapped on.\") | Число |\n",
    "| 3 | created_at | Дата и вермя создания записи. | Дата и время (datetime) |\n",
    "| 4 | tree_dbh | Диаметр дерева измеренный приблизительно в 137 см (54\") над землёй. Данные собраны как для мёртвых, так и для живых деревьев. Для пеньков используется признак stump_diam | Число |\n",
    "| 5 | stump_diam | Диаметр пенька, измеренный через центр, округлённый до ближайшего целого. Диаметр измерен в дюймах. | Число |\n",
    "| 6 | curb_loc | Расположение грядки (клумбы, газона), в которой находится дерево, относительно бордюра; деревья располагаются либо вдоль бордюра (OnCurb), либо со смещением от бордюра (OffsetFromCurb). | Текст |\n",
    "| 7 | status | Статус, указывающий является ли дерево живым, стоящим мёртвым или пеньком. | Текст |\n",
    "| 8 | health | Оценка здоровья дерева пользователем. | Текст |\n",
    "| 9 | spc_latin | Название вида на латыни, например \"Acer rubrum\". | Текст |\n",
    "| 10 | spc_common | Обывательское название вида, например \"red maple\". | Текст |\n",
    "| 11 | steward | Indicates the number of unique signs of stewardship observed for this tree. Not recorded for stumps or dead trees. | Текст |\n",
    "| 12 | guards | Указывает, присутствует ли ограждение (охрана?) и считает ли пользователь ее полезной или вредной. Для сухостойных деревьев и пней не отмечено. | Текст |\n",
    "| 13 | sidewalk | Указывает, был ли один из краёв тротуара, непосредственно прилегающий к дереву, поврежден, треснут или поднят. Для сухостойных деревьев и пней не отмечено. | Текст |\n",
    "| 14 | user_type | Поле содержит категорию пользователя, внёсшего запись в данные. | Текст |\n",
    "| 15 | problems |  | Текст |\n",
    "| 16 | root_stone | Указывает на наличие проблемы с корнями, вызванной брусчаткой на клумбе дерева. | Текст |\n",
    "| 17 | root_grate | Указывает на наличие проблемы с корнями, вызванной металлическими решетками на клумбе дерева | Текст |\n",
    "| 18 | root_other | Указывает на наличие других проблем с корнями. | Текст |\n",
    "| 19 | trunk_wire | Указывает на наличие проблемы со стволом дерева, вызванной проволокой или веревкой, обернутой вокруг ствола. | Текст |\n",
    "| 20 | trnk_light | Указывает на наличие проблемы со стволом, вызванной освещением, установленным на дереве. | Текст |\n",
    "| 21 | trnk_other | Указывает на другие проблемы со стволом. | Текст |\n",
    "| 22 | brch_light | Указывает на наличие проблемы с ветвями, вызванной освещением (обычно гирляндами) или проводами в ветвях. | Текст |\n",
    "| 23 | brch_shoe | Указывает на наличие проблемы с ветками, вызванной кроссовками в ветках. | Текст |\n",
    "| 24 | brch_other | Указывает на наличие других проблем с ветвями дерева. | Текст |\n",
    "| 25 | address | Ближайший предполагаемый адрес к дереву. | Текст |\n",
    "| 26 | postcode | Почтовый индекс. | Число |\n",
    "| 27 | zip_city | Город, полученный из почтового индекса. Часто (но не всегда) это то же самое, что и район. | Текст |\n",
    "| 28 | community board | Community board in which tree point is located. | Число |\n",
    "| 29 | borocode | Код района, в котором расположено дерева: 1 (Манхэттен), 2 (Бронкс), 3 (Бруклин), 4 (Куинс), 5 (Стейтен-Айленд). | Число |\n",
    "| 30 | borough | Название района, в котором расположено дерево. | Текст |\n",
    "| 31 | cncldist | Муниципальный округ, в котором находится дерево | Число |\n",
    "| 32 | st_assem | Район Государственного собрания, в котором находится дерево. (State Assembly District in which tree point is located.) | Число |\n",
    "| 33 | st_senate | Район Сената штата, в котором находится дерево. (State Senate District in which tree point is located.) | Число |\n",
    "| 34 | nta | Код NTA, соответствующий районов по данным переписи населения США 2010 года, в который попадает дерево. (This is the NTA Code corresponding to the neighborhood tabulation area from the 2010 US Census that the tree point falls into.) | Текст |\n",
    "| 35 | nta_name | Название NTA, соответствующее району по данным переписи населения США 2010 года, в который попадает дерево. (This is the NTA name corresponding to the neighborhood tabulation area from the 2010 US Census that the tree point falls into.) | Текст |\n",
    "| 36 | boro_ct | Это идентификатор участка переписи, в который попадает дерево. | Число |\n",
    "| 37 | state | Все строки меют одно и то же значение этого признака, равное \"New York\". | Текст |\n",
    "| 38 | latitude | Широта | Число |\n",
    "| 39 | longitude | Долгота | Число |\n",
    "| 40 | x_sp | X coordinate, in state plane. Units are feet. | Число |\n",
    "| 41 | y_sp | Y coordinate, in state plane. Units are feet. | Число |\n",
    "| 42 | council district |  | Число |\n",
    "| 43 | census tract |  | Число |\n",
    "| 44 | bin |  | Число |\n",
    "| 45 | bbl |  | Число |"
   ]
  },
  {
   "cell_type": "markdown",
   "metadata": {},
   "source": [
    "## Загрузка данных\n",
    "Загрузка данных и их описания выполняется, если данные и описание не были\n",
    "загружены ранее.\n",
    "\n",
    "Данные загружаются с помощью\n",
    "[SODA API](https://dev.socrata.com/foundry/data.cityofnewyork.us/uvpi-gqnh)."
   ]
  },
  {
   "cell_type": "code",
   "execution_count": 1,
   "metadata": {},
   "outputs": [
    {
     "name": "stdout",
     "output_type": "stream",
     "text": [
      "Загрузка описания датасета.\n",
      "Загрузка завершена. Подробнее в ../../logs/src.logs.logs.log\n"
     ]
    }
   ],
   "source": [
    "%%bash\n",
    "if [ ! -f ../../references/ny_tree_census_description.pdf ]; then\n",
    "    echo \"Загрузка описания датасета.\"\n",
    "    poetry run python ../../src/data/get_data.py get-description\n",
    "    echo \"Загрузка завершена. Подробнее в ../../logs/src.logs.logs.log\"\n",
    "else\n",
    "    echo \"Описание датасета было загружено ранее.\"\n",
    "fi"
   ]
  },
  {
   "cell_type": "code",
   "execution_count": 2,
   "metadata": {},
   "outputs": [
    {
     "name": "stdout",
     "output_type": "stream",
     "text": [
      "Загрузка датасета.\n",
      "Загрузка завершена. Подробнее в ../../logs/src.logs.logs.log\n"
     ]
    }
   ],
   "source": [
    "%%bash\n",
    "if [ ! -f ../../data/raw/data.csv ]; then\n",
    "    echo \"Загрузка датасета.\"\n",
    "    poetry run python ../../src/data/get_data.py get-data\n",
    "    echo \"Загрузка завершена. Подробнее в ../../logs/src.logs.logs.log\"\n",
    "else\n",
    "    echo \"Датасет был загружен ранее.\"\n",
    "fi"
   ]
  }
 ],
 "metadata": {
  "kernelspec": {
   "display_name": "Python 3",
   "language": "python",
   "name": "python3"
  },
  "language_info": {
   "codemirror_mode": {
    "name": "ipython",
    "version": 3
   },
   "file_extension": ".py",
   "mimetype": "text/x-python",
   "name": "python",
   "nbconvert_exporter": "python",
   "pygments_lexer": "ipython3",
   "version": "3.11.9"
  }
 },
 "nbformat": 4,
 "nbformat_minor": 2
}
