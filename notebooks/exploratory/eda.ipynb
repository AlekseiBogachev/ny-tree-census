{
 "cells": [
  {
   "cell_type": "markdown",
   "metadata": {},
   "source": [
    "# Исследовательский анализ датасета [2015 Street Tree Census - Tree Data](https://data.cityofnewyork.us/Environment/2015-Street-Tree-Census-Tree-Data/uvpi-gqnh/about_data)"
   ]
  },
  {
   "cell_type": "markdown",
   "metadata": {},
   "source": [
    "## Краткое описание\n",
    "\n",
    "Датасет содержит информацию о деревьях, растущих на улицах Нью-Йорка, собранную\n",
    "в рамках проекта **2015 Street Tree Census** волонтёрами и сотрудниками\n",
    "**NYC Parks & Recreation** и партнёрских организаций.\n",
    "\n",
    "Собранные данные включают в себя информацию о видах деревьев, диаметре и оценку\n",
    "здоровья. Доступны сопроводительные данные, показывающие статус сбора и\n",
    "публикации данных по всему городу.\n",
    "\n",
    "[Подробнее о датасете можно узнать на его сайте.](https://data.cityofnewyork.us/Environment/2015-Street-Tree-Census-Tree-Data/uvpi-gqnh/about_data)\n",
    "\n",
    "Данный отчёт содержит исследовательский анализ данных, в том числе следующие\n",
    "пункты:\n",
    "- **превью данных** - таблица с небольшой выборкой из датасета,\n",
    "- **оценка количества пропусков в столбцах** с помощью библиотеки\n",
    "  [`missingno`](https://github.com/ResidentMario/missingno),\n",
    "- **диаграммы попарного распределения признаков**,\n",
    "- **матрицу попарной корреляции между вещественными признаками**,\n",
    "- **карту расположения деревьев** из датасета."
   ]
  },
  {
   "cell_type": "markdown",
   "metadata": {},
   "source": [
    "## Описание данных\n",
    "\n",
    "В следующей таблице приведено переведённое описание данных.\n",
    "Подробную информацию можно получить на\n",
    "[сайте датасета](https://data.cityofnewyork.us/Environment/2015-Street-Tree-Census-Tree-Data/uvpi-gqnh/about_data).\n",
    "\n",
    "| № | Название столбца | Описание | Тип данных |\n",
    "|---|---|---|---|\n",
    "| 1 | tree_id | Уникальный идентификатор каждого дерева. | Число |\n",
    "| 2 | block_id | Идентификатор, связывающий каждое дерево с блоком в таблице блоков/шейп-файле, в который оно отображается. (\"Identifier linking each tree to the block in the blockface table/shapefile that it is mapped on.\") | Число |\n",
    "| 3 | created_at | Дата и вермя создания записи. | Дата и время (datetime) |\n",
    "| 4 | tree_dbh | Диаметр дерева, измеренный приблизительно в 137 см (54\") над землёй. Данные собраны как для мёртвых, так и для живых деревьев. Для пеньков используется признак stump_diam | Число |\n",
    "| 5 | stump_diam | Диаметр пенька, измеренный через центр, округлённый до ближайшего целого. Диаметр измерен в дюймах. | Число |\n",
    "| 6 | curb_loc | Расположение грядки (клумбы, газона), в которой находится дерево, относительно бордюра; деревья располагаются либо вдоль бордюра (OnCurb), либо со смещением от бордюра (OffsetFromCurb). | Текст |\n",
    "| 7 | status | Статус, указывающий является ли дерево живым, стоящим мёртвым или пеньком. | Текст |\n",
    "| 8 | health | Оценка здоровья дерева пользователем. | Текст |\n",
    "| 9 | spc_latin | Название вида на латыни, например \"Acer rubrum\". | Текст |\n",
    "| 10 | spc_common | Обывательское название вида, например \"red maple\". | Текст |\n",
    "| 11 | steward | Indicates the number of unique signs of stewardship observed for this tree. Not recorded for stumps or dead trees. | Текст |\n",
    "| 12 | guards | Указывает, присутствует ли ограждение (охрана?) и считает ли пользователь ее полезной или вредной. Для сухостойных деревьев и пней не отмечено. | Текст |\n",
    "| 13 | sidewalk | Указывает, был ли один из краёв тротуара, непосредственно прилегающий к дереву, поврежден, треснут или поднят. Для сухостойных деревьев и пней не отмечено. | Текст |\n",
    "| 14 | user_type | Поле содержит категорию пользователя, внёсшего запись в данные. | Текст |\n",
    "| 15 | problems |  | Текст |\n",
    "| 16 | root_stone | Указывает на наличие проблемы с корнями, вызванной брусчаткой на клумбе дерева. | Текст |\n",
    "| 17 | root_grate | Указывает на наличие проблемы с корнями, вызванной металлическими решетками на клумбе дерева | Текст |\n",
    "| 18 | root_other | Указывает на наличие других проблем с корнями. | Текст |\n",
    "| 19 | trunk_wire | Указывает на наличие проблемы со стволом дерева, вызванной проволокой или веревкой, обернутой вокруг ствола. | Текст |\n",
    "| 20 | trnk_light | Указывает на наличие проблемы со стволом, вызванной освещением, установленным на дереве. | Текст |\n",
    "| 21 | trnk_other | Указывает на другие проблемы со стволом. | Текст |\n",
    "| 22 | brch_light | Указывает на наличие проблемы с ветвями, вызванной освещением (обычно гирляндами) или проводами в ветвях. | Текст |\n",
    "| 23 | brch_shoe | Указывает на наличие проблемы с ветками, вызванной кроссовками в ветках. | Текст |\n",
    "| 24 | brch_other | Указывает на наличие других проблем с ветвями дерева. | Текст |\n",
    "| 25 | address | Ближайший предполагаемый адрес к дереву. | Текст |\n",
    "| 26 | postcode | Почтовый индекс. | Число |\n",
    "| 27 | zip_city | Город, полученный из почтового индекса. Часто (но не всегда) это то же самое, что и район. | Текст |\n",
    "| 28 | cb_num | Community board in which tree point is located. | Число |\n",
    "| 29 | borocode | Код района, в котором расположено дерево: 1 (Манхэттен), 2 (Бронкс), 3 (Бруклин), 4 (Куинс), 5 (Стейтен-Айленд). | Число |\n",
    "| 30 | boroname | Название района, в котором расположено дерево. | Текст |\n",
    "| 31 | cncldist | Муниципальный округ, в котором находится дерево | Число |\n",
    "| 32 | st_assem | Район Государственного собрания, в котором находится дерево. (State Assembly District in which tree point is located.) | Число |\n",
    "| 33 | st_senate | Район Сената штата, в котором находится дерево. (State Senate District in which tree point is located.) | Число |\n",
    "| 34 | nta | Код NTA, соответствующий районов по данным переписи населения США 2010 года, в который попадает дерево. (This is the NTA Code corresponding to the neighborhood tabulation area from the 2010 US Census that the tree point falls into.) | Текст |\n",
    "| 35 | nta_name | Название NTA, соответствующее району по данным переписи населения США 2010 года, в который попадает дерево. (This is the NTA name corresponding to the neighborhood tabulation area from the 2010 US Census that the tree point falls into.) | Текст |\n",
    "| 36 | boro_ct | Это идентификатор участка переписи, в который попадает дерево. | Число |\n",
    "| 37 | state | Все строки меют одно и то же значение этого признака, равное \"New York\". | Текст |\n",
    "| 38 | latitude | Широта | Число |\n",
    "| 39 | longitude | Долгота | Число |\n",
    "| 40 | x_sp | Координата X в Государственной плоской системе координат (SPCS), используемой в США. Единица измерения футы. (X coordinate, in state plane. Units are feet.) | Число |\n",
    "| 41 | y_sp | Координата Y в Государственной плоской системе координат (SPCS), используемой в США. Единица измерения футы. (Y coordinate, in state plane. Units are feet.) | Число |\n",
    "| 42 | council_district | Муниципальный округ. | Число |\n",
    "| 43 | census_tract | Переписной участок | Число |\n",
    "| 44 | bin |  | Число |\n",
    "| 45 | bbl |  | Число |"
   ]
  },
  {
   "cell_type": "markdown",
   "metadata": {},
   "source": [
    "## Загрузка данных\n",
    "Загрузка данных и их описания выполняется, если данные и описание не были\n",
    "загружены ранее.\n",
    "\n",
    "Данные загружаются с помощью\n",
    "[SODA API](https://dev.socrata.com/foundry/data.cityofnewyork.us/uvpi-gqnh)."
   ]
  },
  {
   "cell_type": "code",
   "execution_count": null,
   "metadata": {},
   "outputs": [],
   "source": [
    "%%bash\n",
    "if [ ! -f ../../references/ny_tree_census_description.ptrees_problems ]; then\n",
    "    echo \"Загрузка описания датасета.\"\n",
    "    poetry run python ../../src/data/get_data.py get-description\n",
    "    echo \"Загрузка завершена. Подробнее в ../../logs/src.logs.logs.log\"\n",
    "else\n",
    "    echo \"Описание датасета было загружено ранее.\"\n",
    "fi"
   ]
  },
  {
   "cell_type": "code",
   "execution_count": null,
   "metadata": {},
   "outputs": [],
   "source": [
    "%%bash\n",
    "if [ ! -f ../../data/raw/data.csv ]; then\n",
    "    echo \"Загрузка датасета.\"\n",
    "    poetry run python ../../src/data/get_data.py get-data\n",
    "    echo \"Загрузка завершена. Подробнее в ../../logs/src.logs.logs.log\"\n",
    "else\n",
    "    echo \"Датасет был загружен ранее.\"\n",
    "fi"
   ]
  },
  {
   "cell_type": "markdown",
   "metadata": {},
   "source": [
    "## Анализ данных"
   ]
  },
  {
   "cell_type": "markdown",
   "metadata": {},
   "source": [
    "### Импорт модулей"
   ]
  },
  {
   "cell_type": "code",
   "execution_count": null,
   "metadata": {},
   "outputs": [],
   "source": [
    "import matplotlib\n",
    "import matplotlib.pyplot as plt\n",
    "import numpy as np\n",
    "import pandas as pd\n",
    "from plotly import express as px\n",
    "\n",
    "from src.visualization import (\n",
    "    explore_cat_feature,\n",
    "    explore_cat_vs_cat,\n",
    "    explore_num_feature,\n",
    "    plot_corr_matrix,\n",
    "    review_data,\n",
    ")\n",
    "\n",
    "%matplotlib inline"
   ]
  },
  {
   "cell_type": "markdown",
   "metadata": {},
   "source": [
    "### Знакомство с данными"
   ]
  },
  {
   "cell_type": "markdown",
   "metadata": {},
   "source": [
    "#### Вывод общей информации о датафрейме"
   ]
  },
  {
   "cell_type": "markdown",
   "metadata": {},
   "source": [
    "Считаем загруженный ранее файл с датасетом и выведем общую информацию о нем."
   ]
  },
  {
   "cell_type": "code",
   "execution_count": null,
   "metadata": {},
   "outputs": [],
   "source": [
    "dataset: pd.DataFrame = pd.read_csv(\"../../data/raw/data.csv\")\n",
    "\n",
    "review_data(dataset)"
   ]
  },
  {
   "cell_type": "markdown",
   "metadata": {},
   "source": [
    "#### Выводы"
   ]
  },
  {
   "cell_type": "markdown",
   "metadata": {},
   "source": [
    "Датасет не содержит дубликатов, но содержит пропуски. Пропуски не должны быть\n",
    "проблемой на этапе исследовательского анализа, однако их придётся обработать,\n",
    "прежде чем передать данные модели машинного обучения, если это будет необходимо.\n",
    "\n",
    "Пропуски содержатся в следующих столбцах:\n",
    "- `health` - 5%;\n",
    "- `spc_latin` - 5%;\n",
    "- `spc_common` - 5%;\n",
    "- `steward` - 5%;\n",
    "- `guards` - 5%;\n",
    "- `sidewalk` - 5%;\n",
    "- `problems` - 5%;\n",
    "- `council_district` - 1%;\n",
    "- `census_tract` - 1%;\n",
    "- `bin` - 1%;\n",
    "- `bbl` - 1%;"
   ]
  },
  {
   "cell_type": "markdown",
   "metadata": {},
   "source": [
    "Признаки `tree_id`, `block_id`, `created_at` содержат уникальный идентификатор\n",
    "дерева, уникальный идентификатор блока и дату создания записи. **Не будем их\n",
    "рассматривать, по крайней мере, по началу.**\n",
    "\n",
    "**Не имеет смысла исследовать признак `state`**, так как данный столбце\n",
    "целиком заполенен значением \"New York\"."
   ]
  },
  {
   "cell_type": "markdown",
   "metadata": {},
   "source": [
    "Датасет содержит как категориальные, так и количественные признаки. \n",
    "\n",
    "К количественным признакам относятся следующие:\n",
    "- `tree_dbh`;  \n",
    "- `stump_diam`;  \n",
    "- `latitude`;\n",
    "- `longitude`;\n",
    "- `x_sp`;\n",
    "- `y_sp`;\n",
    "- `bin`;\n",
    "- `bbl`.\n",
    "\n",
    "Cледующие признаки, хоть и были прочитаны с типом `int64`, с точки зрения своего\n",
    "физического смысла, являют категориальными:\n",
    "- `zipcode`;  \n",
    "- `cb_num`;  \n",
    "- `borocode`; \n",
    "- `cncldist`;  \n",
    "- `st_assem`;  \n",
    "- `st_senate`; \n",
    "- `boro_ct`;\n",
    "- `council_district`;\n",
    "- `census_tract`.\n",
    "\n",
    "К категориальным признакам также относятся признаки\n",
    "- `curb_loc`; \n",
    "- `status`; \n",
    "- `health`; \n",
    "- `spc_latin`; \n",
    "- `spc_common`; \n",
    "- `steward`; \n",
    "- `guards`; \n",
    "- `sidewalk`; \n",
    "- `user_type`; \n",
    "- `problems`; \n",
    "- `root_stone`; \n",
    "- `root_grate`; \n",
    "- `root_other`; \n",
    "- `trunk_wire`; \n",
    "- `trnk_light`; \n",
    "- `trnk_other`; \n",
    "- `brch_light`; \n",
    "- `brch_shoe`; \n",
    "- `brch_other`; \n",
    "- `address`;\n",
    "- `zip_city`;\n",
    "- `boroname`;\n",
    "- `nta`; \n",
    "- `nta_name`;\n",
    "- `state`.\n",
    "\n",
    "Многие категориальные признаки имеют высокую кардинальность.\n",
    "\n",
    "Подсчитаем количество уникальных значений для категориальных признаков, которые\n",
    "изначально были распознаны как количественные."
   ]
  },
  {
   "cell_type": "code",
   "execution_count": null,
   "metadata": {},
   "outputs": [],
   "source": [
    "columns = [\n",
    "    \"zipcode\",\n",
    "    \"cb_num\",\n",
    "    \"borocode\",\n",
    "    \"cncldist\",\n",
    "    \"st_assem\",\n",
    "    \"st_senate\",\n",
    "    \"boro_ct\",\n",
    "    \"council_district\",\n",
    "    \"census_tract\",\n",
    "]\n",
    "\n",
    "pd.DataFrame(\n",
    "    dataset[columns].nunique(), columns=[\"Количество уникальных значений\"]\n",
    ")"
   ]
  },
  {
   "cell_type": "markdown",
   "metadata": {},
   "source": [
    "Таким образом, среди категориальных признаков мы можем исследовать с помощью\n",
    "графиков следующие:\n",
    "- `curb_loc`;\n",
    "- `status`;\n",
    "- `health`;\n",
    "- `steward`;\n",
    "- `guards`;\n",
    "- `sidewalk`;\n",
    "- `user_type`;\n",
    "- `root_stone`;\n",
    "- `root_grate`;\n",
    "- `root_other`;\n",
    "- `trunk_wire`;\n",
    "- `trnk_light`;\n",
    "- `trnk_other`;\n",
    "- `brch_light`;\n",
    "- `brch_shoe`;\n",
    "- `brch_other`;\n",
    "- `zip_city`;\n",
    "- `boroname`;\n",
    "- `cb_num`;\n",
    "- `borocode`;\n",
    "- `cncldist`;\n",
    "- `st_senate`;\n",
    "- `council_district`."
   ]
  },
  {
   "cell_type": "markdown",
   "metadata": {},
   "source": [
    "### Исследование отдельных признаков"
   ]
  },
  {
   "cell_type": "markdown",
   "metadata": {},
   "source": [
    "#### Количественные признаки\n",
    "К количественным признакам отнесём следующие:\n",
    "- `tree_dbh`;  \n",
    "- `stump_diam`;  \n",
    "- `latitude`;\n",
    "- `longitude`;\n",
    "- `x_sp`;\n",
    "- `y_sp`;\n",
    "- `bin`;\n",
    "- `bbl`.\n",
    "\n",
    "Рассмотрим их распределения."
   ]
  },
  {
   "cell_type": "markdown",
   "metadata": {},
   "source": [
    "##### `tree_dbh`\n",
    "Признак содержит диаметр дерева в, измеренный приблизительно в 137 см (54\") над\n",
    "землёй."
   ]
  },
  {
   "cell_type": "code",
   "execution_count": null,
   "metadata": {},
   "outputs": [],
   "source": [
    "explore_num_feature(\n",
    "    data=dataset,\n",
    "    column_name=\"tree_dbh\",\n",
    "    bins=51,\n",
    ")"
   ]
  },
  {
   "cell_type": "markdown",
   "metadata": {},
   "source": [
    "Форма распределения значений признака значительно отклоняется от формы\n",
    "нормального. Распределение имеет тяжёлый хвост и большое количество выбросов\n",
    "в большую сторону.\n",
    "\n",
    "Признак может быть строго равен нулю. Скорее всего, значение данного признака\n",
    "равно нулю для пеньков. Согласно описанию данных диаметр пеньков заносится в\n",
    "признак `stump_diam`."
   ]
  },
  {
   "cell_type": "markdown",
   "metadata": {},
   "source": [
    "Рассмотрим распределение значений данного признак в диапазоне\n",
    "`0 < tree_dbh <= 100` более подробно."
   ]
  },
  {
   "cell_type": "code",
   "execution_count": null,
   "metadata": {},
   "outputs": [],
   "source": [
    "explore_num_feature(\n",
    "    data=dataset.query(\"tree_dbh > 0 and tree_dbh <=100\"),\n",
    "    column_name=\"tree_dbh\",\n",
    "    bins=51,\n",
    ")"
   ]
  },
  {
   "cell_type": "markdown",
   "metadata": {},
   "source": [
    "##### `stump_diam`\n",
    "Диаметр пенька, измеренный через центр, в дюймах."
   ]
  },
  {
   "cell_type": "code",
   "execution_count": null,
   "metadata": {},
   "outputs": [],
   "source": [
    "explore_num_feature(\n",
    "    data=dataset,\n",
    "    column_name=\"stump_diam\",\n",
    ")"
   ]
  },
  {
   "cell_type": "markdown",
   "metadata": {},
   "source": [
    "В датасете большинство наблюдений относится к деревьям, а не к пенькам, поэтому\n",
    "данный признак содержит абсолютное большинство нулей. Диаметр стволов деревьев\n",
    "заносится в признак `tree_dbh`.\n",
    "\n",
    "Выберем только те записи, где диаметр пенька строго больше нуля и меньше или\n",
    "равен 100 и рассмотрим распределение диаметров повторно."
   ]
  },
  {
   "cell_type": "code",
   "execution_count": null,
   "metadata": {},
   "outputs": [],
   "source": [
    "explore_num_feature(\n",
    "    data=dataset.query(\"stump_diam > 0 and stump_diam <= 100\"),\n",
    "    column_name=\"stump_diam\",\n",
    "    bins=51,\n",
    ")"
   ]
  },
  {
   "cell_type": "markdown",
   "metadata": {},
   "source": [
    "Форма распределения значений признака значительно отклоняется от формы\n",
    "нормального. Распределение имеет тяжёлый хвост и большое количество выбросов\n",
    "в большую сторону.\n",
    "\n",
    "Форма распределения значений диаметров пеньков напоминает форму распределения\n",
    "значений диаметров стволов `tree_dbh`, что закономерно.\n",
    "\n",
    "**Таким образом, признаки `tree_dbh` и `stump_diam` стоить попробовать\n",
    "объединить в один признак `diam` и рассматривать совместно.**"
   ]
  },
  {
   "cell_type": "markdown",
   "metadata": {},
   "source": [
    "##### `latitude`\n",
    "Широта точки в которой расположено дерево на карте."
   ]
  },
  {
   "cell_type": "code",
   "execution_count": null,
   "metadata": {},
   "outputs": [],
   "source": [
    "explore_num_feature(\n",
    "    data=dataset,\n",
    "    column_name=\"latitude\",\n",
    ")"
   ]
  },
  {
   "cell_type": "markdown",
   "metadata": {},
   "source": [
    "Форма распределения близка к форме нормального распределения, но имеет несколько\n",
    "мод, которые могут соответствовать центрам \"кластеров\" деревьев.\n",
    "\n",
    "Позже мы рассмотрим распределение точек одновременно по признаку `latitude` и\n",
    "признаку `longitude`, а также нанесём точки с деревьями на карту, что позволит\n",
    "понять причину появления нескольких мод."
   ]
  },
  {
   "cell_type": "markdown",
   "metadata": {},
   "source": [
    "##### `longitude`\n",
    "Долгота точки в которой расположено дерево на карте."
   ]
  },
  {
   "cell_type": "code",
   "execution_count": null,
   "metadata": {},
   "outputs": [],
   "source": [
    "explore_num_feature(\n",
    "    data=dataset,\n",
    "    column_name=\"longitude\",\n",
    ")"
   ]
  },
  {
   "cell_type": "markdown",
   "metadata": {},
   "source": [
    "Форма распределения значительно отличается от формы нормального распределения.\n",
    "Распределение имеет как минимум две моды.\n",
    "\n",
    "Позже мы рассмотрим распределение записей одновременно по признаку `latitude` и\n",
    "признаку `longitude`, а также нанесём точки с деревьями на карту, что позволит\n",
    "понять причину появления нескольких мод."
   ]
  },
  {
   "cell_type": "markdown",
   "metadata": {},
   "source": [
    "##### `x_sp`\n",
    "Координата X в Государственной плоской системе координат (SPCS),\n",
    "используемой в США. Единица измерения футы."
   ]
  },
  {
   "cell_type": "code",
   "execution_count": null,
   "metadata": {},
   "outputs": [],
   "source": [
    "explore_num_feature(data=dataset, column_name=\"x_sp\")"
   ]
  },
  {
   "cell_type": "markdown",
   "metadata": {},
   "source": [
    "Распределение повторяет распределение признака `longitude`."
   ]
  },
  {
   "cell_type": "markdown",
   "metadata": {},
   "source": [
    "##### `y_sp`\n",
    "Координата Y в Государственной плоской системе координат (SPCS),\n",
    "используемой в США. Единица измерения футы."
   ]
  },
  {
   "cell_type": "code",
   "execution_count": null,
   "metadata": {},
   "outputs": [],
   "source": [
    "explore_num_feature(data=dataset, column_name=\"y_sp\")"
   ]
  },
  {
   "cell_type": "markdown",
   "metadata": {},
   "source": [
    "Распределение повторяет распределение признака `latitude`."
   ]
  },
  {
   "cell_type": "markdown",
   "metadata": {},
   "source": [
    "##### `bin` и `bbl`\n",
    "В описании датасета отсутствуют комментарии для этих признаков, но они были\n",
    "распознаны как количественные.\n",
    "\n",
    "Рассмотрим их распределения."
   ]
  },
  {
   "cell_type": "code",
   "execution_count": null,
   "metadata": {},
   "outputs": [],
   "source": [
    "explore_num_feature(data=dataset, column_name=\"bin\")\n",
    "\n",
    "explore_num_feature(data=dataset, column_name=\"bbl\")"
   ]
  },
  {
   "cell_type": "markdown",
   "metadata": {},
   "source": [
    "Судя по гистограммам, признаки являются категориальными, подсчитаем количество\n",
    "уникальных значений для каждого из них."
   ]
  },
  {
   "cell_type": "code",
   "execution_count": null,
   "metadata": {},
   "outputs": [],
   "source": [
    "pd.DataFrame(\n",
    "    dataset[[\"bin\", \"bbl\"]].nunique(),\n",
    "    columns=[\"Количество уникальных значений\"],\n",
    ")"
   ]
  },
  {
   "cell_type": "markdown",
   "metadata": {},
   "source": [
    "Выведем несколько значений этих признаков."
   ]
  },
  {
   "cell_type": "code",
   "execution_count": null,
   "metadata": {},
   "outputs": [],
   "source": [
    "dataset[[\"bin\", \"bbl\"]].sample(10)"
   ]
  },
  {
   "cell_type": "markdown",
   "metadata": {},
   "source": [
    "Похоже, что данные признаки содержат какие-то коды или координаты с большим\n",
    "количеством уникальных значений."
   ]
  },
  {
   "cell_type": "markdown",
   "metadata": {},
   "source": [
    "##### `created_at`\n",
    "Рассмотрим признак `created_at`, содержащий дату и время создания записи.\n",
    "Подсчитаем количество записей созданных в "
   ]
  },
  {
   "cell_type": "code",
   "execution_count": null,
   "metadata": {},
   "outputs": [],
   "source": [
    "(\n",
    "    dataset.assign(created_at=lambda row: pd.to_datetime(row.created_at))\n",
    "    .loc[:, [\"created_at\", \"tree_id\"]]\n",
    "    .resample(\"MS\", on=\"created_at\")\n",
    "    .count()\n",
    "    .rename(columns={\"tree_id\": \"count\"})\n",
    "    .reset_index()\n",
    "    .assign(created_at=lambda row: row.created_at.dt.date)\n",
    "    .plot(\n",
    "        kind=\"bar\",\n",
    "        x=\"created_at\",\n",
    "        y=\"count\",\n",
    "        title=\"Количество записей внесённых в разное время\",\n",
    "    )\n",
    ")\n",
    "\n",
    "plt.show()"
   ]
  },
  {
   "cell_type": "markdown",
   "metadata": {},
   "source": [
    "Больше всего записей было внесено в октябре 2015, самая низкая активность\n",
    "участников проекта наблюдалась в период с января 2016 по апрель 2016."
   ]
  },
  {
   "cell_type": "markdown",
   "metadata": {},
   "source": [
    "#### Категориальные признаки\n",
    "Среди категориальных признаков мы можем исследовать с помощью\n",
    "графиков следующие:\n",
    "- `curb_loc`;\n",
    "- `status`;\n",
    "- `health`;\n",
    "- `steward`;\n",
    "- `guards`;\n",
    "- `sidewalk`;\n",
    "- `user_type`;\n",
    "- `root_stone`;\n",
    "- `root_grate`;\n",
    "- `root_other`;\n",
    "- `trunk_wire`;\n",
    "- `trnk_light`;\n",
    "- `trnk_other`;\n",
    "- `brch_light`;\n",
    "- `brch_shoe`;\n",
    "- `brch_other`;\n",
    "- `zip_city`;\n",
    "- `boroname`;\n",
    "- `cb_num`;\n",
    "- `borocode`;\n",
    "- `cncldist`;\n",
    "- `st_senate`;\n",
    "- `council_district`."
   ]
  },
  {
   "cell_type": "markdown",
   "metadata": {},
   "source": [
    "##### `curb_loc`\n",
    "Рассмотрим категориальный признак `curb_loc`, содержащий информацию о\n",
    "расположении грядки (клумбы, газона), в которой находится дерево, относительно\n",
    "бордюра; деревья располагаются либо вдоль бордюра (OnCurb), либо со смещением\n",
    "от бордюра (OffsetFromCurb)."
   ]
  },
  {
   "cell_type": "code",
   "execution_count": null,
   "metadata": {},
   "outputs": [],
   "source": [
    "explore_cat_feature(\n",
    "    data=dataset,\n",
    "    column_name=\"curb_loc\",\n",
    "    title=\"Расположение клумбы относительно бордюра\",\n",
    "    xlabel=\"Количество наблюдений\",\n",
    "    ylabel=\"Расположение клумбы\",\n",
    ")"
   ]
  },
  {
   "cell_type": "markdown",
   "metadata": {},
   "source": [
    "Большинство деревьев (клумб) расположены вдоль бордюра."
   ]
  },
  {
   "cell_type": "markdown",
   "metadata": {},
   "source": [
    "##### `status`\n",
    "Рассмотрим категориальный признак `status` - статус, указывающий является ли\n",
    "дерево живым, стоящим мёртвым или пеньком."
   ]
  },
  {
   "cell_type": "code",
   "execution_count": null,
   "metadata": {},
   "outputs": [],
   "source": [
    "explore_cat_feature(\n",
    "    data=dataset,\n",
    "    column_name=\"status\",\n",
    "    title=\"Статус дерева\\n(живое / мёртвое / пенёк)\",\n",
    "    xlabel=\"Количество наблюдений\",\n",
    "    ylabel=\"Статус\",\n",
    ")"
   ]
  },
  {
   "cell_type": "markdown",
   "metadata": {},
   "source": [
    "В датасете очень мало пеньков и мёртвых деревьев."
   ]
  },
  {
   "cell_type": "markdown",
   "metadata": {},
   "source": [
    "##### `health`\n",
    "Рассмотрим категориальный признак `health`, содержащий оценку здоровья дерева\n",
    "пользователем."
   ]
  },
  {
   "cell_type": "code",
   "execution_count": null,
   "metadata": {},
   "outputs": [],
   "source": [
    "explore_cat_feature(\n",
    "    data=dataset,\n",
    "    column_name=\"health\",\n",
    "    title=\"Оценка здоровья дерева\",\n",
    "    xlabel=\"Количество наблюдений\",\n",
    "    ylabel=\"Оценка\",\n",
    ")"
   ]
  },
  {
   "cell_type": "markdown",
   "metadata": {},
   "source": [
    "Состояние большинства деревьев оценено как хорошее, при этом признак, содержит\n",
    "некоторое количество пропусков. Вполне возможно, что эти пропуски соответствуют\n",
    "пенькам и мёртвым деревьям. Чтобы проверить эти гипотезу подсчитаем для каждого\n",
    "статуса дерева количество каждого значения признака `health`."
   ]
  },
  {
   "cell_type": "code",
   "execution_count": null,
   "metadata": {},
   "outputs": [],
   "source": [
    "dataset.groupby(\"status\")[\"health\"].value_counts(dropna=False)"
   ]
  },
  {
   "cell_type": "markdown",
   "metadata": {},
   "source": [
    "Для живых деревьев признак `health` содержит пропущенное значение только в\n",
    "одном случае, все остальные пропуски соответствуют пням и мёртвым деревьям."
   ]
  },
  {
   "cell_type": "markdown",
   "metadata": {},
   "source": [
    "##### `steward`\n",
    "Рассмотрим категориальный признак `steward`. Согласно описанию, содержит\n",
    "пропущенные значения для пней и мёртвых деревьев."
   ]
  },
  {
   "cell_type": "code",
   "execution_count": null,
   "metadata": {},
   "outputs": [],
   "source": [
    "explore_cat_feature(\n",
    "    data=dataset,\n",
    "    column_name=\"steward\",\n",
    "    title=\"Steward\",\n",
    "    xlabel=\"Количество наблюдений\",\n",
    ")"
   ]
  },
  {
   "cell_type": "markdown",
   "metadata": {},
   "source": [
    "Признак можно рассматривать как ранговый и перекодировать целыми числами."
   ]
  },
  {
   "cell_type": "markdown",
   "metadata": {},
   "source": [
    "##### `guards`\n",
    "Рассмотрим категориальный признак `guards`, содержащий информацию об ограждении\n",
    "вокруг дерева. Согласно описанию, признак содержит пропущенные значения для пней\n",
    "и мёртвых деревьев."
   ]
  },
  {
   "cell_type": "code",
   "execution_count": null,
   "metadata": {},
   "outputs": [],
   "source": [
    "explore_cat_feature(\n",
    "    data=dataset,\n",
    "    column_name=\"guards\",\n",
    "    title=\"Ограждения\",\n",
    "    xlabel=\"Количество наблюдений\",\n",
    ")"
   ]
  },
  {
   "cell_type": "markdown",
   "metadata": {},
   "source": [
    "У большинства деревьев ограждения отсутствуют."
   ]
  },
  {
   "cell_type": "markdown",
   "metadata": {},
   "source": [
    "##### `sidewalk`\n",
    "Рассмотрим категориальный признак `sidewalk`, который указывает, был ли один из\n",
    "краёв тротуара, непосредственно прилегающий к дереву, поврежден, треснут или\n",
    "поднят. Согласно описанию, признак содержит пропущенные значения для пней\n",
    "и мёртвых деревьев."
   ]
  },
  {
   "cell_type": "code",
   "execution_count": null,
   "metadata": {},
   "outputs": [],
   "source": [
    "explore_cat_feature(\n",
    "    data=dataset,\n",
    "    column_name=\"sidewalk\",\n",
    "    title=\"sidewalk\\n(состояние края тротуара)\",\n",
    "    xlabel=\"Количество наблюдений\",\n",
    "    ylabel=\"sidewalk\",\n",
    ")"
   ]
  },
  {
   "cell_type": "markdown",
   "metadata": {},
   "source": [
    "##### `user_type`\n",
    "Рассмотрим категориальный признак `user_type`, который содержит категорию\n",
    "пользователя, внёсшего запись в данные."
   ]
  },
  {
   "cell_type": "code",
   "execution_count": null,
   "metadata": {},
   "outputs": [],
   "source": [
    "explore_cat_feature(\n",
    "    data=dataset,\n",
    "    column_name=\"user_type\",\n",
    "    title=\"Категории пользователей,\\nвнёсших данные\",\n",
    "    xlabel=\"Количество наблюдений\",\n",
    "    ylabel=\"Категория пользователя\",\n",
    ")"
   ]
  },
  {
   "cell_type": "markdown",
   "metadata": {},
   "source": [
    "Примечательно, что существенная часть данных добавлена волотнёрами."
   ]
  },
  {
   "cell_type": "markdown",
   "metadata": {},
   "source": [
    "##### `root_stone`\n",
    "Рассмотрим категориальный признак `root_stone`, который указывает на наличие\n",
    "проблемы с корнями, вызванной брусчаткой на клумбе дерева."
   ]
  },
  {
   "cell_type": "code",
   "execution_count": null,
   "metadata": {},
   "outputs": [],
   "source": [
    "explore_cat_feature(\n",
    "    data=dataset,\n",
    "    column_name=\"root_stone\",\n",
    "    title=\"Проблемы с корнями\\nиз-за брусчатки на клумбе\",\n",
    "    xlabel=\"Количество наблюдений\",\n",
    "    ylabel=\"Наличие проблемы\",\n",
    ")"
   ]
  },
  {
   "cell_type": "markdown",
   "metadata": {},
   "source": [
    "У большинства деревьев нет проблем с брусчаткой. Видимо, признак также указан и\n",
    "для пней и для мёртвых деревьев."
   ]
  },
  {
   "cell_type": "markdown",
   "metadata": {},
   "source": [
    "##### `root_grate`\n",
    "Рассмотрим категориальный признак `root_grate`, который указывает на наличие\n",
    "проблемы с корнями, вызванной металлическими решетками на клумбе дерева."
   ]
  },
  {
   "cell_type": "code",
   "execution_count": null,
   "metadata": {},
   "outputs": [],
   "source": [
    "explore_cat_feature(\n",
    "    data=dataset,\n",
    "    column_name=\"root_grate\",\n",
    "    title=\"Проблемы с корнями\\nиз-за решёток на клумбе\",\n",
    "    xlabel=\"Количество наблюдений\",\n",
    "    ylabel=\"Наличие проблемы\",\n",
    ")"
   ]
  },
  {
   "cell_type": "markdown",
   "metadata": {},
   "source": [
    "Проблемы, вызванные решётками встречаются очень редко. Похоже, признак также\n",
    "указан для пней и мёртвых деревьев."
   ]
  },
  {
   "cell_type": "markdown",
   "metadata": {},
   "source": [
    "##### `root_other`\n",
    "Рассмотрим категориальный признак `root_other`, Который указывает на наличие\n",
    "других проблем с корнями."
   ]
  },
  {
   "cell_type": "code",
   "execution_count": null,
   "metadata": {},
   "outputs": [],
   "source": [
    "explore_cat_feature(\n",
    "    data=dataset,\n",
    "    column_name=\"root_other\",\n",
    "    title=\"Другие проблемы с корнями\",\n",
    "    xlabel=\"Количество наблюдений\",\n",
    "    ylabel=\"Наличие проблемы\",\n",
    ")"
   ]
  },
  {
   "cell_type": "markdown",
   "metadata": {},
   "source": [
    "У большинства деревьев нет проблем данной категории. Видимо, признак также\n",
    "указан и для пней и для мёртвых деревьев."
   ]
  },
  {
   "cell_type": "markdown",
   "metadata": {},
   "source": [
    "##### `trunk_wire`\n",
    "Рассмотрим категориальный признак `trunk_wire`, который указывает на наличие\n",
    "проблем со стволом дерева, вызванной проволокой или веревкой, обернутой вокруг\n",
    "ствола."
   ]
  },
  {
   "cell_type": "code",
   "execution_count": null,
   "metadata": {},
   "outputs": [],
   "source": [
    "explore_cat_feature(\n",
    "    data=dataset,\n",
    "    column_name=\"trunk_wire\",\n",
    "    title=\"Проблемы со стволом\\nиз-за проволоки или верёвки\",\n",
    "    xlabel=\"Количество наблюдений\",\n",
    "    ylabel=\"Наличие проблемы\",\n",
    ")"
   ]
  },
  {
   "cell_type": "markdown",
   "metadata": {},
   "source": [
    "Проблема встречается крайне редко. Похоже, признак также указан для пней и\n",
    "мёртвых деревьев."
   ]
  },
  {
   "cell_type": "markdown",
   "metadata": {},
   "source": [
    "##### `trnk_light`\n",
    "Рассмотрим категориальный признак `trnk_light`, который указывает на наличие\n",
    "проблем со стволом дерева, вызванной освещением, установленным на дереве."
   ]
  },
  {
   "cell_type": "code",
   "execution_count": null,
   "metadata": {},
   "outputs": [],
   "source": [
    "explore_cat_feature(\n",
    "    data=dataset,\n",
    "    column_name=\"trnk_light\",\n",
    "    title=\"Проблемы со стволом\\nиз-за освещения\",\n",
    "    xlabel=\"Количество наблюдений\",\n",
    "    ylabel=\"Наличие проблемы\",\n",
    ")"
   ]
  },
  {
   "cell_type": "markdown",
   "metadata": {},
   "source": [
    "Проблема встречается настолько редко, что информативность данного признака\n",
    "ставится под вопрос."
   ]
  },
  {
   "cell_type": "markdown",
   "metadata": {},
   "source": [
    "##### `trnk_other`\n",
    "Рассмотрим категориальный признак `trnk_other`, который указывает на наличие\n",
    "других проблем со стволом дерева."
   ]
  },
  {
   "cell_type": "code",
   "execution_count": null,
   "metadata": {},
   "outputs": [],
   "source": [
    "explore_cat_feature(\n",
    "    data=dataset,\n",
    "    column_name=\"trnk_other\",\n",
    "    title=\"Другие проблемы со стволом\",\n",
    "    xlabel=\"Количество наблюдений\",\n",
    "    ylabel=\"Наличие проблемы\",\n",
    ")"
   ]
  },
  {
   "cell_type": "markdown",
   "metadata": {},
   "source": [
    "Проблема встречается довольно редко и указана в том числе для пней и мёртвых\n",
    "деревьев."
   ]
  },
  {
   "cell_type": "markdown",
   "metadata": {},
   "source": [
    "##### `brch_light`\n",
    "Рассмотрим категориальный признак `brch_light`, который указывает на наличие\n",
    "проблемы с ветвями, вызванной освещением (обычно гирляндами) или проводами в\n",
    "ветвях."
   ]
  },
  {
   "cell_type": "code",
   "execution_count": null,
   "metadata": {},
   "outputs": [],
   "source": [
    "explore_cat_feature(\n",
    "    data=dataset,\n",
    "    column_name=\"brch_light\",\n",
    "    title=\"Проблемы с ветвями из-за освещения\",\n",
    "    xlabel=\"Количество наблюдений\",\n",
    "    ylabel=\"Наличие проблемы\",\n",
    ")"
   ]
  },
  {
   "cell_type": "markdown",
   "metadata": {},
   "source": [
    "Проблема встречается довольно редко и указана в том числе для пней и мёртвых\n",
    "деревьев."
   ]
  },
  {
   "cell_type": "markdown",
   "metadata": {},
   "source": [
    "##### `brch_shoe`\n",
    "Рассмотрим категориальный признак `brch_shoe`, который указывает на наличие\n",
    "проблемы с ветвями из-за кросовок в них."
   ]
  },
  {
   "cell_type": "code",
   "execution_count": null,
   "metadata": {},
   "outputs": [],
   "source": [
    "explore_cat_feature(\n",
    "    data=dataset,\n",
    "    column_name=\"brch_shoe\",\n",
    "    title=\"Проблемы с ветвями из-за кросовок\",\n",
    "    xlabel=\"Количество наблюдений\",\n",
    "    ylabel=\"Наличие проблемы\",\n",
    ")"
   ]
  },
  {
   "cell_type": "markdown",
   "metadata": {},
   "source": [
    "Проблема встречается настолько редко, что информативность признака ставится\n",
    "под вопрос. Признак не содержит пропусков, а значит указан в том числе и для\n",
    "пней и для мёртвых деревьев."
   ]
  },
  {
   "cell_type": "markdown",
   "metadata": {},
   "source": [
    "##### `brch_other`\n",
    "Рассмотрим категориальный признак `brch_other`, который указывает на наличие\n",
    "других проблем с ветвями."
   ]
  },
  {
   "cell_type": "code",
   "execution_count": null,
   "metadata": {},
   "outputs": [],
   "source": [
    "explore_cat_feature(\n",
    "    data=dataset,\n",
    "    column_name=\"brch_other\",\n",
    "    title=\"Другие проблемы с ветвями\",\n",
    "    xlabel=\"Количество наблюдений\",\n",
    "    ylabel=\"Наличие проблемы\",\n",
    ")"
   ]
  },
  {
   "cell_type": "markdown",
   "metadata": {},
   "source": [
    "Проблемы встречаются довольно редко, признак указан в том числе для пней и\n",
    "мёртвых деревьев."
   ]
  },
  {
   "cell_type": "markdown",
   "metadata": {},
   "source": [
    "##### `zip_city`\n",
    "Рассмотрим категориальный признак `zip_city`, который содержит город, полученный\n",
    "из почтового индекса."
   ]
  },
  {
   "cell_type": "code",
   "execution_count": null,
   "metadata": {},
   "outputs": [],
   "source": [
    "explore_cat_feature(\n",
    "    data=dataset,\n",
    "    column_name=\"zip_city\",\n",
    "    title=\"Город, полученный из почтового индекса.\",\n",
    "    xlabel=\"Количество наблюдений\",\n",
    "    ylabel=\"Город\",\n",
    "    figsize=(7, 10),\n",
    ")"
   ]
  },
  {
   "cell_type": "markdown",
   "metadata": {},
   "source": [
    "Большинство записей соответствуют Бруклину."
   ]
  },
  {
   "cell_type": "markdown",
   "metadata": {},
   "source": [
    "##### `boroname`\n",
    "Рассмотрим категориальный признак `boroname`, который указывает название района,\n",
    "в котором расположено дерево."
   ]
  },
  {
   "cell_type": "code",
   "execution_count": null,
   "metadata": {},
   "outputs": [],
   "source": [
    "explore_cat_feature(\n",
    "    data=dataset,\n",
    "    column_name=\"boroname\",\n",
    "    title=\"Название района\",\n",
    "    xlabel=\"Количество наблюдений\",\n",
    "    ylabel=\"Название района\",\n",
    ")"
   ]
  },
  {
   "cell_type": "markdown",
   "metadata": {},
   "source": [
    "Большинство деревьев раcположены в районе **Queens**."
   ]
  },
  {
   "cell_type": "markdown",
   "metadata": {},
   "source": [
    "##### `cb_num`\n",
    "Рассмотрим категориальный признак `cb_num`."
   ]
  },
  {
   "cell_type": "code",
   "execution_count": null,
   "metadata": {},
   "outputs": [],
   "source": [
    "explore_cat_feature(\n",
    "    data=dataset,\n",
    "    column_name=\"cb_num\",\n",
    "    title=\"cb_num\",\n",
    "    xlabel=\"Количество наблюдений\",\n",
    "    figsize=(7, 10),\n",
    ")"
   ]
  },
  {
   "cell_type": "markdown",
   "metadata": {},
   "source": [
    "##### `borocode`\n",
    "Рассмотрим категориальный признак `borocode`, содержащий код района, в котором\n",
    "расположено дерево:\n",
    "- 1 - (Манхэттен),\n",
    "- 2 - (Бронкс),\n",
    "- 3 - (Бруклин),\n",
    "- 4 - (Куинс),\n",
    "- 5 - (Стейтен-Айленд)."
   ]
  },
  {
   "cell_type": "code",
   "execution_count": null,
   "metadata": {},
   "outputs": [],
   "source": [
    "explore_cat_feature(\n",
    "    data=dataset,\n",
    "    column_name=\"borocode\",\n",
    "    title=\"Код района\",\n",
    "    xlabel=\"Количество наблюдений\",\n",
    "    ylabel=\"Код\",\n",
    ")"
   ]
  },
  {
   "cell_type": "markdown",
   "metadata": {},
   "source": [
    "Признак является закодированным признаком `boroname`."
   ]
  },
  {
   "cell_type": "markdown",
   "metadata": {},
   "source": [
    "##### `cncldist`\n",
    "Рассмотрим категориальный признак `cncldist`, содержащий муниципальный округ, в\n",
    "котором находится дерево."
   ]
  },
  {
   "cell_type": "code",
   "execution_count": null,
   "metadata": {},
   "outputs": [],
   "source": [
    "explore_cat_feature(\n",
    "    data=dataset,\n",
    "    column_name=\"cncldist\",\n",
    "    title=\"Муниципальный округ\",\n",
    "    xlabel=\"Количество наблюдений\",\n",
    "    ylabel=\"Округ\",\n",
    "    figsize=(7, 10),\n",
    ")"
   ]
  },
  {
   "cell_type": "markdown",
   "metadata": {},
   "source": [
    "Большинство деревьев расположены в округе 51."
   ]
  },
  {
   "cell_type": "markdown",
   "metadata": {},
   "source": [
    "##### `st_senate`\n",
    "Рассмотрим категориальный признак `st_senate`, содержащий район Сената штата, в\n",
    "котором находится дерево. "
   ]
  },
  {
   "cell_type": "code",
   "execution_count": null,
   "metadata": {},
   "outputs": [],
   "source": [
    "explore_cat_feature(\n",
    "    data=dataset,\n",
    "    column_name=\"st_senate\",\n",
    "    title=\"Район Сената штата\",\n",
    "    xlabel=\"Количество наблюдений\",\n",
    "    ylabel=\"Район\",\n",
    "    figsize=(7, 10),\n",
    ")"
   ]
  },
  {
   "cell_type": "markdown",
   "metadata": {},
   "source": [
    "Большинство наблюдений соответствуют району Сената штата с номером 24."
   ]
  },
  {
   "cell_type": "markdown",
   "metadata": {},
   "source": [
    "##### `council_district`\n",
    "Рассмотрим категориальный признак `council_district`, содержащий муниципальный\n",
    "округ, в котором находится дерево. "
   ]
  },
  {
   "cell_type": "code",
   "execution_count": null,
   "metadata": {},
   "outputs": [],
   "source": [
    "explore_cat_feature(\n",
    "    data=dataset,\n",
    "    column_name=\"council_district\",\n",
    "    title=\"Муниципальный округ\",\n",
    "    xlabel=\"Количество наблюдений\",\n",
    "    ylabel=\"Муниципальный округ\",\n",
    "    figsize=(7, 10),\n",
    ")"
   ]
  },
  {
   "cell_type": "markdown",
   "metadata": {},
   "source": [
    "Большинство деревьев относится к муниципальному округу с номером 51.\n",
    "\n",
    "Признак содержит небольшое количество пропусков, что может быть связано как\n",
    "с ошибками в данных, так и с особенностями административно-территорального\n",
    "деления в США."
   ]
  },
  {
   "cell_type": "markdown",
   "metadata": {},
   "source": [
    "##### `spc_latin`\n",
    "Рассмотрим категориальный признак `spc_latin`, содержащий название вида дерева\n",
    "на латыни. Признак обладает высокой кардинальностью, поэтому выведем 50 наиболее\n",
    "часто встречающихся значений. "
   ]
  },
  {
   "cell_type": "code",
   "execution_count": null,
   "metadata": {},
   "outputs": [],
   "source": [
    "explore_cat_feature(\n",
    "    data=dataset,\n",
    "    column_name=\"spc_latin\",\n",
    "    n_top=50,\n",
    "    title=\"Виды деревьев\",\n",
    "    xlabel=\"Количество наблюдений\",\n",
    "    ylabel=\"Латинское название вида\",\n",
    "    figsize=(7, 10),\n",
    ")"
   ]
  },
  {
   "cell_type": "markdown",
   "metadata": {},
   "source": [
    "Чаще всех встречаются деревья вида **Platanus x acerifolia**\n",
    "(плантан кленолистный)."
   ]
  },
  {
   "cell_type": "markdown",
   "metadata": {},
   "source": [
    "##### `spc_common`\n",
    "Рассмотрим категориальный признак `spc_common`, содержащий обывательское \n",
    "название вида дерева. Признак обладает высокой кардинальностью, поэтому выведем\n",
    "50 наиболее часто встречающихся значений. "
   ]
  },
  {
   "cell_type": "code",
   "execution_count": null,
   "metadata": {},
   "outputs": [],
   "source": [
    "explore_cat_feature(\n",
    "    data=dataset,\n",
    "    column_name=\"spc_common\",\n",
    "    n_top=50,\n",
    "    title=\"Виды деревьев\",\n",
    "    xlabel=\"Количество наблюдений\",\n",
    "    ylabel=\"Обывательское название\",\n",
    "    figsize=(7, 10),\n",
    ")"
   ]
  },
  {
   "cell_type": "markdown",
   "metadata": {},
   "source": [
    "На первом месте всё также плантан кленолистный."
   ]
  },
  {
   "cell_type": "markdown",
   "metadata": {},
   "source": [
    "##### `problems`\n",
    "Рассмотрим категориальный признак `problems`, содержащий информацию о проблемах\n",
    "с деревом. Признак обладает высокой кардинальностью, поэтому выведем\n",
    "50 наиболее часто встречающихся значений и, на всякий случай, подсчитаем\n",
    "количество пропусков."
   ]
  },
  {
   "cell_type": "code",
   "execution_count": null,
   "metadata": {},
   "outputs": [],
   "source": [
    "print(\n",
    "    \"Количество пропусков в столбце в полных данных: \"\n",
    "    f\"{dataset.problems.isna().sum()}\\n\"\n",
    ")\n",
    "\n",
    "explore_cat_feature(\n",
    "    data=dataset,\n",
    "    column_name=\"problems\",\n",
    "    n_top=50,\n",
    "    title=\"Проблемы деревьев\",\n",
    "    xlabel=\"Количество наблюдений\",\n",
    "    ylabel=\"Проблема\",\n",
    "    figsize=(7, 10),\n",
    ")"
   ]
  },
  {
   "cell_type": "markdown",
   "metadata": {},
   "source": [
    "Признак содержит записи как об отдельных проблемах, так и об их комбинациях,\n",
    "перечисленных через запятую. **Интересно, что признак также содержит пропуски.**\n",
    "\n",
    "Чаще всего деревья либо не имеют никаких проблем, либо имеют проблемы с камнями\n",
    "и осветительными приборами в ветвях. Закономерно, комбинации проблем встречаются\n",
    "значительно реже.\n",
    "\n",
    "Чтобы понять какие **отдельные проблемы** встречаются чаще всего исключим из\n",
    "датасета деревья не имеющие проблем и записи, содержащие пропуски в данном\n",
    "столбце, разделим все комбинации проблем на отдельные проблемы и сосчитаем как\n",
    "часто они встречаются."
   ]
  },
  {
   "cell_type": "code",
   "execution_count": null,
   "metadata": {},
   "outputs": [],
   "source": [
    "trees_problems = (\n",
    "    dataset.query(\"problems != 'None' and problems.notna()\")\n",
    "    .set_index(keys=[\"tree_id\", \"problems\"], drop=False)\n",
    "    .drop(columns=\"tree_id\")\n",
    "    .problems.str.split(\",\")\n",
    "    .explode()\n",
    "    .rename_axis(index={\"problems\": \"problems_str\"})\n",
    "    .reset_index()\n",
    ")\n",
    "\n",
    "explore_cat_feature(\n",
    "    data=trees_problems,\n",
    "    column_name=\"problems\",\n",
    "    title=\"Частота отдельных проблем деревьев\",\n",
    "    xlabel=\"Количество наблюдений\",\n",
    "    ylabel=\"Проблема\",\n",
    "    figsize=(10, 5),\n",
    ")"
   ]
  },
  {
   "cell_type": "markdown",
   "metadata": {},
   "source": [
    "Подсчитаем количество отдельных проблем у одного дерева, для этого создадим\n",
    "признак `problems_count` и выясним как часто встречается разное количество\n",
    "проблем у одного дерева."
   ]
  },
  {
   "cell_type": "code",
   "execution_count": null,
   "metadata": {},
   "outputs": [],
   "source": [
    "explore_cat_feature(\n",
    "    data=(\n",
    "        trees_problems.assign(\n",
    "            problems_count=lambda x: trees_problems.groupby(\n",
    "                by=[\"tree_id\", \"problems_str\"]\n",
    "            ).problems.transform(\"count\")\n",
    "        )\n",
    "    ),\n",
    "    column_name=\"problems_count\",\n",
    "    title=\"Количество отдельных проблем у одного дерева\",\n",
    "    xlabel=\"Количество наблюдений\",\n",
    "    ylabel=\"Количество отдельных проблем\",\n",
    "    figsize=(10, 5),\n",
    ")"
   ]
  },
  {
   "cell_type": "markdown",
   "metadata": {},
   "source": [
    "Чаще всего одно дерево имеет 1 - 2 отдельные проблемы, при этом, максимальное\n",
    "количество проблем равно 9."
   ]
  },
  {
   "cell_type": "markdown",
   "metadata": {},
   "source": [
    "Попробуем выяснить какие проблемы деревьев встречаются вместе.\n",
    "Будем рассматривать отдельные пары проблем."
   ]
  },
  {
   "cell_type": "code",
   "execution_count": null,
   "metadata": {},
   "outputs": [],
   "source": [
    "explore_cat_vs_cat(\n",
    "    data=(\n",
    "        trees_problems.merge(\n",
    "            pd.Series(\n",
    "                trees_problems[\"problems\"].unique(), name=\"base_problems\"\n",
    "            ),\n",
    "            how=\"cross\",\n",
    "        )\n",
    "        .rename(columns={\"problems\": \"actual_problems\"})\n",
    "        .assign(\n",
    "            presented=(\n",
    "                lambda df: df.apply(\n",
    "                    lambda row: (\n",
    "                        row.base_problems in row.problems_str\n",
    "                        and row.actual_problems in row.problems_str\n",
    "                    ),\n",
    "                    axis=\"columns\",\n",
    "                )\n",
    "            )\n",
    "        )\n",
    "        .query(\"presented == True\")\n",
    "    ),\n",
    "    x=\"base_problems\",\n",
    "    y=\"actual_problems\",\n",
    "    title=\"Совстречаемость проблем деревьев\",\n",
    "    xlabel=\"Проблема\",\n",
    "    ylabel=\"Проблема\",\n",
    "    figsize=(16, 16),\n",
    "    norm=matplotlib.colors.LogNorm(),\n",
    "    alpha=0.5,\n",
    ")"
   ]
  },
  {
   "cell_type": "markdown",
   "metadata": {},
   "source": [
    "Очевидно, разные пары проблем встречаются с разной частотой. Реже всех\n",
    "встречаются проблемы с кросовками и осветительными приборами на стволе.\n",
    "Чаще всех - проблемы только с камнями и проблемы только с осветительными\n",
    "приборами в ветвях и комбинация этих проблем. Реже всех встречаются проблемы\n",
    "с кросовками и комбинации этих проблем с другими. Примечательно, что\n",
    "в комбинациях присутствует каждая пара проблем и нет взаимоисключающих\n",
    "категорий."
   ]
  },
  {
   "cell_type": "markdown",
   "metadata": {},
   "source": [
    "### Исследование признаков в парах"
   ]
  },
  {
   "cell_type": "markdown",
   "metadata": {},
   "source": [
    "#### Матрица корреляции для количественных признаков\n",
    "К количественным признакам относятся следующие:\n",
    "- `tree_dbh`;\n",
    "- `stump_diam`;\n",
    "- `latitude`;\n",
    "- `longitude`;\n",
    "- `x_sp`;\n",
    "- `y_sp`;\n",
    "- `bin`;\n",
    "- `bbl`.\n",
    "\n",
    "Построим для них матрицу корреляции. Так как количественные признаки содержат\n",
    "выбросы, будем использовать коэффициент корреляции Кендалла."
   ]
  },
  {
   "cell_type": "code",
   "execution_count": null,
   "metadata": {},
   "outputs": [],
   "source": [
    "plot_corr_matrix(\n",
    "    dataset[\n",
    "        [\n",
    "            \"tree_dbh\",\n",
    "            \"stump_diam\",\n",
    "            \"latitude\",\n",
    "            \"longitude\",\n",
    "            \"x_sp\",\n",
    "            \"y_sp\",\n",
    "            \"bin\",\n",
    "            \"bbl\",\n",
    "        ]\n",
    "    ],\n",
    "    method=\"kendall\",\n",
    ")"
   ]
  },
  {
   "cell_type": "markdown",
   "metadata": {},
   "source": [
    "Пары признаков `latitude` и `y_sp`, `longitude` и `x_sp`, `bin` и `bbl`\n",
    "показывают очень высокую корреляцию, скорее всего величины в этих парах связаны\n",
    "некоторой зависимостью. Для пар `latitude` и `y_sp`, `longitude` и `x_sp` такая\n",
    "высокая корреляция логична, так как это широта и долгота в разных системах\n",
    "координат. Причина высокой корреляции между `bin` и `bbl` остаётся загадкой,\n",
    "так как автору не известен физический смысл этих величин. Тем не менее\n",
    "достаточно будет рассмотреть по одному признаку из каждой пары."
   ]
  },
  {
   "cell_type": "markdown",
   "metadata": {},
   "source": [
    "#### Пары категориальных признаков"
   ]
  },
  {
   "cell_type": "markdown",
   "metadata": {},
   "source": [
    "##### `spc_latin` и `spc_common`\n",
    "Проверим нет ли ошибок в сопоставлении обывательского названия вида дерева с его\n",
    "названием на латыне. Для этого посчитаем какое максимальное количество названий\n",
    "на латыне соответствует каждому обывательскому названию и наоборот."
   ]
  },
  {
   "cell_type": "code",
   "execution_count": null,
   "metadata": {},
   "outputs": [],
   "source": [
    "print(\n",
    "    \"Максимальное количество уникальных названий вида дерева\",\n",
    "    \"на латыне для каждого обывательского названия:\",\n",
    "    dataset.groupby(\"spc_common\").spc_latin.nunique().max(),\n",
    ")\n",
    "\n",
    "print(\n",
    "    \"Максимальное количество уникальных обывательских названий\",\n",
    "    \"вида дерева для каждого названия на латыне:\",\n",
    "    dataset.groupby(\"spc_latin\").spc_common.nunique().max(),\n",
    ")"
   ]
  },
  {
   "cell_type": "markdown",
   "metadata": {},
   "source": [
    "Таким образом, каждому уникальному названию дерева на латыне соответствует\n",
    "только одно уникальное обывательское название. Скорее всего, названия видов\n",
    "деревьев сопоставлены корректно, но не исключено, что для отдельных деревьев\n",
    "некорректно указано как название вида на латыне так и соответствующее\n",
    "обывательское название."
   ]
  },
  {
   "cell_type": "markdown",
   "metadata": {},
   "source": [
    "##### Совстречаемость проблем\n",
    "Попробуем выяснить какие проблемы деревьев встречаются одновременно, для этого\n",
    "построим график, называемый\n",
    "[Parallel Categories Diagram](https://plotly.com/python/parallel-categories-diagram/),\n",
    "из библиотеки `Plotly` для трёх наиболее часто встречающихся проблем, которым\n",
    "соответствуют значения **Yes** в следующих признаках:\n",
    "\n",
    "- `root_stone`,\n",
    "- `brch_light`,\n",
    "- `trnk_other`."
   ]
  },
  {
   "cell_type": "code",
   "execution_count": null,
   "metadata": {},
   "outputs": [],
   "source": [
    "cols = [\n",
    "    \"root_stone\",\n",
    "    \"brch_light\",\n",
    "    \"trnk_other\",\n",
    "]\n",
    "\n",
    "fig = px.parallel_categories(\n",
    "    data_frame=(\n",
    "        dataset.loc[:, cols].assign(\n",
    "            log10_count=np.log10(\n",
    "                dataset.groupby(by=cols)[\"tree_id\"].transform(\"count\")\n",
    "            )\n",
    "        )\n",
    "    ),\n",
    "    dimensions=cols,\n",
    "    color=\"log10_count\",\n",
    "    color_continuous_scale=\"greens_r\",\n",
    "    range_color=[3, 6],\n",
    ")\n",
    "\n",
    "fig.update_layout(\n",
    "    title=\"Совстречаемость трёх наиболее распространённых проблем\",\n",
    "    title_x=0.5,\n",
    ")\n",
    "\n",
    "fig.show()"
   ]
  }
 ],
 "metadata": {
  "kernelspec": {
   "display_name": "Python 3",
   "language": "python",
   "name": "python3"
  },
  "language_info": {
   "codemirror_mode": {
    "name": "ipython",
    "version": 3
   },
   "file_extension": ".py",
   "mimetype": "text/x-python",
   "name": "python",
   "nbconvert_exporter": "python",
   "pygments_lexer": "ipython3",
   "version": "3.11.9"
  }
 },
 "nbformat": 4,
 "nbformat_minor": 2
}
