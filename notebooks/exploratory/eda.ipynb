{
 "cells": [
  {
   "cell_type": "markdown",
   "metadata": {},
   "source": [
    "# Исследовательский анализ датасета [2015 Street Tree Census - Tree Data](https://data.cityofnewyork.us/Environment/2015-Street-Tree-Census-Tree-Data/uvpi-gqnh/about_data)"
   ]
  },
  {
   "cell_type": "markdown",
   "metadata": {},
   "source": [
    "## Краткое описание\n",
    "\n",
    "Датасет содержит информацию о деревьях, растущих на улицах Нью-Йорка, собранную\n",
    "в рамках проекта **2015 Street Tree Census** волонтёрами и сотрудниками\n",
    "**NYC Parks & Recreation** и партнёрских организация.\n",
    "\n",
    "Собранные данные включают в себ информацию о видах деревьев, диаметре и оценку\n",
    "здоровья. Доступны сопроводительные данные, показывающие статус сбора и\n",
    "публикации данных по всему городу.\n",
    "\n",
    "[Подробнее о датасете можно узнать на его сайте.](https://data.cityofnewyork.us/Environment/2015-Street-Tree-Census-Tree-Data/uvpi-gqnh/about_data)\n",
    "\n",
    "Данный отчёт содержит исследовательский анализ данных, в том числе следующие\n",
    "пункты:\n",
    "- **превью данных** - таблица с небольшой выборкой из датасета,\n",
    "- **оценка количества пропусков в столбцах** с помощью библиотеки\n",
    "  [`missingno`](https://github.com/ResidentMario/missingno),\n",
    "- **диаграммы попарного распределения признаков**,\n",
    "- **матрицу попарной корреляции между вещественными признаками**,\n",
    "- **карту расположения деревьев** из датасета."
   ]
  },
  {
   "cell_type": "code",
   "execution_count": 1,
   "metadata": {},
   "outputs": [
    {
     "name": "stdout",
     "output_type": "stream",
     "text": [
      "Загрузка описания датасета.\n",
      "Загрузка завершена. Подробнее в ../../logs/src.logs.logs.log\n"
     ]
    }
   ],
   "source": [
    "%%bash\n",
    "if [ ! -f ../../references/ny_tree_census_description.pdf ]; then\n",
    "    echo \"Загрузка описания датасета.\"\n",
    "    poetry run python ../../src/data/get_data.py get-description\n",
    "    echo \"Загрузка завершена. Подробнее в ../../logs/src.logs.logs.log\"\n",
    "else\n",
    "    echo \"Описание датасета было загружено ранее.\"\n",
    "fi"
   ]
  },
  {
   "cell_type": "code",
   "execution_count": 2,
   "metadata": {},
   "outputs": [
    {
     "name": "stdout",
     "output_type": "stream",
     "text": [
      "Загрузка датасета.\n",
      "Загрузка завершена. Подробнее в ../../logs/src.logs.logs.log\n"
     ]
    }
   ],
   "source": [
    "%%bash\n",
    "if [ ! -f ../../data/raw/data.csv ]; then\n",
    "    echo \"Загрузка датасета.\"\n",
    "    poetry run python ../../src/data/get_data.py get-data\n",
    "    echo \"Загрузка завершена. Подробнее в ../../logs/src.logs.logs.log\"\n",
    "else\n",
    "    echo \"Датасет был загружен ранее.\"\n",
    "fi"
   ]
  }
 ],
 "metadata": {
  "kernelspec": {
   "display_name": "Python 3",
   "language": "python",
   "name": "python3"
  },
  "language_info": {
   "codemirror_mode": {
    "name": "ipython",
    "version": 3
   },
   "file_extension": ".py",
   "mimetype": "text/x-python",
   "name": "python",
   "nbconvert_exporter": "python",
   "pygments_lexer": "ipython3",
   "version": "3.11.9"
  }
 },
 "nbformat": 4,
 "nbformat_minor": 2
}
